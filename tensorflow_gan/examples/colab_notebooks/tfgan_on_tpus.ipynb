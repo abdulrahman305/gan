{
  "cells": [
    {
      "metadata": {
        "id": "U7yvnmAGx77G"
      },
      "cell_type": "markdown",
      "source": [
        "### This Colab was deprecated August 2024."
      ]
    }
  ],
  "metadata": {
    "colab": {
      "collapsed_sections": [],
      "last_runtime": {
        "build_target": "//learning/brain/python/client:tpu_hw_notebook",
        "kind": "private"
      },
      "name": "TF-GAN on TPUs",
      "private_outputs": true,
      "provenance": [
        {
          "file_id": "/piper/depot/tensorflow_gan/examples/colab_notebooks/tfgan_on_tpus.ipynb",
          "timestamp": 1625073496461
        },
        {
          "file_id": "/piper/depot/tensorflow_gan/examples/colab_notebooks/tfgan_on_tpus.ipynb",
          "timestamp": 1625016031564
        },
        {
          "file_id": "/piper/depot/tensorflow_gan/examples/colab_notebooks/tfgan_on_tpus.ipynb",
          "timestamp": 1606129140652
        },
        {
          "file_id": "/piper/depot/tensorflow_gan/examples/colab_notebooks/tfgan_on_tpus.ipynb",
          "timestamp": 1582841684055
        },
        {
          "file_id": "/piper/depot/tensorflow_gan/examples/colab_notebooks/tfgan_on_tpus.ipynb",
          "timestamp": 1569547310685
        },
        {
          "file_id": "/piper/depot/tensorflow_gan/examples/colab_notebooks/tfgan_on_tpus.ipynb",
          "timestamp": 1567688657181
        },
        {
          "file_id": "/piper/depot/tensorflow_gan/examples/colab_notebooks/tfgan_on_tpus.ipynb",
          "timestamp": 1564088453771
        },
        {
          "file_id": "/piper/depot/tensorflow_gan/examples/colab_notebooks/tfgan_on_tpus.ipynb",
          "timestamp": 1560586324901
        },
        {
          "file_id": "/piper/depot/tensorflow_gan/examples/colab_notebooks/tfgan_on_tpus.ipynb",
          "timestamp": 1559825146929
        },
        {
          "file_id": "/piper/depot/tensorflow_gan/examples/colab_notebooks/tfgan_on_tpus.ipynb",
          "timestamp": 1559658404997
        },
        {
          "file_id": "/piper/depot/tensorflow_gan/examples/colab_notebooks/tfgan_on_tpus.ipynb",
          "timestamp": 1559231931573
        },
        {
          "file_id": "0Bz8X96EaC_2-ZW9odlhSOEFXdWs",
          "timestamp": 1493398103910
        }
      ]
    },
    "kernelspec": {
      "display_name": "Python 2",
      "name": "python2"
    }
  },
  "nbformat": 4,
  "nbformat_minor": 0
}
