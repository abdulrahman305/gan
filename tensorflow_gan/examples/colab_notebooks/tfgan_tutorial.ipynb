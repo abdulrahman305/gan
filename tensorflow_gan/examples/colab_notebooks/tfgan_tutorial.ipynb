{
  "cells": [
    {
      "metadata": {
        "id": "PhLOpMFEwYFn"
      },
      "cell_type": "markdown",
      "source": [
        "### This Colab was deprecated August 2024."
      ]
    }
  ],
  "metadata": {
    "colab": {
      "collapsed_sections": [],
      "last_runtime": {
        "build_target": "//learning/brain/python/client:colab_notebook",
        "kind": "private"
      },
      "name": "TF-GAN Tutorial",
      "private_outputs": true,
      "provenance": [
        {
          "file_id": "/piper/depot/tensorflow_gan/examples/colab_notebooks/tfgan_tutorial.ipynb",
          "timestamp": 1625147882111
        },
        {
          "file_id": "/piper/depot/tensorflow_gan/examples/colab_notebooks/tfgan_tutorial.ipynb",
          "timestamp": 1625002068968
        },
        {
          "file_id": "/piper/depot/tensorflow_gan/examples/colab_notebooks/tfgan_tutorial.ipynb",
          "timestamp": 1571383618849
        },
        {
          "file_id": "/piper/depot/tensorflow_gan/examples/colab_notebooks/tfgan_tutorial.ipynb",
          "timestamp": 1569547390651
        },
        {
          "file_id": "/piper/depot/tensorflow_gan/examples/colab_notebooks/tfgan_tutorial.ipynb",
          "timestamp": 1559972047311
        },
        {
          "file_id": "/piper/depot/tensorflow_gan/examples/colab_notebooks/tfgan_tutorial.ipynb",
          "timestamp": 1559900570952
        },
        {
          "file_id": "/piper/depot/tensorflow_gan/examples/colab_notebooks/tfgan_tutorial.ipynb",
          "timestamp": 1559897391264
        },
        {
          "file_id": "/piper/depot/tensorflow_gan/examples/colab_notebooks/tfgan_tutorial.ipynb",
          "timestamp": 1559752800451
        },
        {
          "file_id": "/piper/depot/tensorflow_gan/examples/colab_notebooks/tfgan_tutorial.ipynb",
          "timestamp": 1559719883868
        },
        {
          "file_id": "/piper/depot/tensorflow_gan/examples/colab_notebooks/tfgan_tutorial.ipynb",
          "timestamp": 1559717312855
        },
        {
          "file_id": "/piper/depot/tensorflow_gan/examples/colab_notebooks/tfgan_tutorial.ipynb",
          "timestamp": 1559641947244
        },
        {
          "file_id": "14r58gghjLTBBQVoSFOBdPsvj-I1G6nbd",
          "timestamp": 1549819781952
        },
        {
          "file_id": "0Bz8X96EaC_2-ZW9odlhSOEFXdWs",
          "timestamp": 1493398103910
        }
      ]
    },
    "kernelspec": {
      "display_name": "Python 3",
      "name": "python3"
    }
  },
  "nbformat": 4,
  "nbformat_minor": 0
}
